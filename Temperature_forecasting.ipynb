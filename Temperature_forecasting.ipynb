{
 "cells": [
  {
   "cell_type": "markdown",
   "metadata": {
    "id": "gW-Ju3o3WxJj"
   },
   "source": [
    "### Zaimportowanie bibliotek"
   ]
  },
  {
   "cell_type": "code",
   "execution_count": 1,
   "metadata": {},
   "outputs": [],
   "source": [
    "import datetime\n",
    "import numpy as np\n",
    "import pandas as pd\n",
    "import tensorflow as tf\n",
    "import matplotlib.pyplot as plt"
   ]
  },
  {
   "cell_type": "code",
   "execution_count": 2,
   "metadata": {},
   "outputs": [
    {
     "name": "stdout",
     "output_type": "stream",
     "text": [
      "Num GPUs Available:  0\n"
     ]
    }
   ],
   "source": [
    "print(\"Num GPUs Available: \", len(tf.config.list_physical_devices('GPU')))"
   ]
  },
  {
   "cell_type": "markdown",
   "metadata": {
    "id": "xM12BryyW1Uz"
   },
   "source": [
    "### Wczytanie wierszy i odpowiednich kolumn z plików "
   ]
  },
  {
   "cell_type": "code",
   "execution_count": 3,
   "metadata": {
    "id": "xok-RpbxznTO"
   },
   "outputs": [],
   "source": [
    "columns = ['station_id', 'day', 'month', 'year', 'mean temperature [deg F]', 'mean dew point [deg F]', 'mean pressure (sea level) [Pa]', 'mean pressure (station) [Pa]', 'mean visibility [mile]', 'mean wind speed [knot]', 'max wind gust [knot]', 'max temperature [deg F]',\n",
    "'min temperature [deg F]', 'total precipitation [inch]', 'snow depth [inch]']\n",
    "train_df = pd.read_excel('data_JA_df_training.xlsx')[columns]\n",
    "test_df = pd.read_excel('data_JA_df_evaluation.xlsx')[columns]"
   ]
  },
  {
   "cell_type": "markdown",
   "metadata": {
    "id": "-Hli_B2JX2sn"
   },
   "source": [
    "### Znormalizowanie danych"
   ]
  },
  {
   "cell_type": "code",
   "execution_count": 4,
   "metadata": {
    "id": "XriI-lSqX1sg"
   },
   "outputs": [],
   "source": [
    "columns = ['station_id', 'mean dew point [deg F]', 'mean pressure (sea level) [Pa]', 'mean pressure (station) [Pa]', 'mean visibility [mile]', 'mean wind speed [knot]', 'max wind gust [knot]', 'max temperature [deg F]',\n",
    "'min temperature [deg F]', 'total precipitation [inch]', 'snow depth [inch]']\n",
    "\n",
    "train_mean = train_df[columns].mean()\n",
    "train_std = train_df[columns].std()\n",
    "\n",
    "test_mean = test_df[columns].mean()\n",
    "test_std = test_df[columns].std()\n",
    "\n",
    "train_df[columns] = (train_df[columns] - train_mean) / train_std\n",
    "test_df[columns] = (test_df[columns] - test_mean) / test_std"
   ]
  },
  {
   "cell_type": "markdown",
   "metadata": {
    "id": "YoFS71TnW8MH"
   },
   "source": [
    "### Dodanie kolumny z datą do późniejszego przygotowania sekwencji"
   ]
  },
  {
   "cell_type": "code",
   "execution_count": 5,
   "metadata": {
    "id": "ioit4mGHTpgM"
   },
   "outputs": [],
   "source": [
    "train_df['date'] = train_df.apply(lambda d: datetime.date(day=int(d.day), month=int(d.month), year=int(d.year)), axis=1)\n",
    "test_df['date'] = test_df.apply(lambda d: datetime.date(day=int(d.day), month=int(d.month), year=int(d.year)), axis=1)"
   ]
  },
  {
   "cell_type": "markdown",
   "metadata": {
    "id": "KcAicOCPXBc5"
   },
   "source": [
    "### Pogrupowanie po stacjach"
   ]
  },
  {
   "cell_type": "code",
   "execution_count": 6,
   "metadata": {
    "colab": {
     "base_uri": "https://localhost:8080/"
    },
    "id": "iYUEA976Mq28",
    "outputId": "31c23e36-575a-43ca-cf16-71b2678391b1"
   },
   "outputs": [
    {
     "name": "stdout",
     "output_type": "stream",
     "text": [
      "station_id\n",
      "-2.046368    365\n",
      "-2.025643    365\n",
      "-1.998009    365\n",
      "-1.984193    365\n",
      "-1.977284    365\n",
      "            ... \n",
      " 1.456176    365\n",
      " 1.476901    364\n",
      " 1.594343    365\n",
      " 1.684152    365\n",
      " 1.704877    365\n",
      "Length: 90, dtype: int64\n",
      "station_id\n",
      "-1.538807    365\n",
      "-0.943052    365\n",
      "-0.435307    365\n",
      "-0.320218    365\n",
      "-0.313448    365\n",
      "-0.266059    365\n",
      "-0.096810    365\n",
      " 0.708813    365\n",
      " 1.040539    365\n",
      " 2.164349    365\n",
      "dtype: int64\n"
     ]
    }
   ],
   "source": [
    "df_stations_train = train_df.groupby(\"station_id\")\n",
    "df_stations_test = test_df.groupby(\"station_id\")\n",
    "\n",
    "print(df_stations_train.size())\n",
    "print(df_stations_test.size())"
   ]
  },
  {
   "cell_type": "markdown",
   "metadata": {
    "id": "BnULcSQnXENY"
   },
   "source": [
    "### Utworzenie sekwencji treningowej i testowej"
   ]
  },
  {
   "cell_type": "code",
   "execution_count": 7,
   "metadata": {
    "id": "JWYbtrSJPKOC"
   },
   "outputs": [],
   "source": [
    "two_weeks_diff = datetime.timedelta(days = 13) # w sumie 14 dni\n",
    "st_index = 0\n",
    "stations_train_value = []\n",
    "stations_train_label = []\n",
    "for name, station_train in df_stations_train:\n",
    "  stations_train_value.append([])\n",
    "  stations_train_label.append([])\n",
    "  for index, station_measurement in station_train.iterrows():\n",
    "\n",
    "    m_station_id = station_measurement.station_id\n",
    "    m_date_to = station_measurement.date\n",
    "    m_date_from = m_date_to - two_weeks_diff;\n",
    "\n",
    "    two_weeks_sequence = station_train[(station_train['date'] >= m_date_from) & (station_train['date'] <= m_date_to)]\n",
    "    if len(two_weeks_sequence) == 14:\n",
    "      stations_train_value[st_index].append(two_weeks_sequence[columns])\n",
    "      stations_train_label[st_index].append(station_measurement['mean temperature [deg F]'])\n",
    "  st_index += 1"
   ]
  },
  {
   "cell_type": "code",
   "execution_count": 8,
   "metadata": {
    "id": "qdEDOwDpvPkZ"
   },
   "outputs": [],
   "source": [
    "two_weeks_diff = datetime.timedelta(days = 13) # w sumie 14 dni\n",
    "st_index = 0\n",
    "stations_test_value = []\n",
    "stations_test_label = []\n",
    "for name, station_train in df_stations_test:\n",
    "  stations_test_value.append([])\n",
    "  stations_test_label.append([])\n",
    "  for index, station_measurement in station_train.iterrows():\n",
    "\n",
    "    m_station_id = station_measurement.station_id\n",
    "    m_date_to = station_measurement.date\n",
    "    m_date_from = m_date_to - two_weeks_diff;\n",
    "\n",
    "    two_weeks_sequence = station_train[(station_train['date'] >= m_date_from) & (station_train['date'] <= m_date_to)]\n",
    "    if len(two_weeks_sequence) == 14:\n",
    "      stations_test_value[st_index].append(two_weeks_sequence[columns])\n",
    "      stations_test_label[st_index].append(station_measurement['mean temperature [deg F]'])\n",
    "  st_index += 1"
   ]
  },
  {
   "cell_type": "markdown",
   "metadata": {
    "id": "kKT0kmi7pMfH"
   },
   "source": [
    "### Zamiana list na numpy array"
   ]
  },
  {
   "cell_type": "code",
   "execution_count": 9,
   "metadata": {
    "colab": {
     "base_uri": "https://localhost:8080/"
    },
    "id": "y0hFUr4IO3Mn",
    "outputId": "af11239f-ad6e-4b9d-e0d4-ef7c530956aa"
   },
   "outputs": [
    {
     "name": "stdout",
     "output_type": "stream",
     "text": [
      "(90,)\n",
      "(90,)\n",
      "[[-2.046368   -1.2029727  -5.103378   -0.63390094 -1.3112237   4.0044494\n",
      "  -1.3112237  -1.9423287  -1.4938451  -0.21508503 -0.943497  ]\n",
      " [-2.046368   -1.2029727  -2.7342894  -0.63390094 -1.7740207   4.0347695\n",
      "  -1.7740207  -1.8897102  -1.2446393  -0.21508503 -1.3480691 ]\n",
      " [-2.046368   -1.5323619  -1.6848946  -0.22162296  0.23143263  0.72986776\n",
      "   0.23143263 -2.0592585  -1.7140734  -0.21508503  0.4050766 ]\n",
      " [-2.046368   -1.4982871  -0.794499   -0.22162296  1.4312764   0.5479465\n",
      "   1.4312764  -1.9072497  -1.9053243  -0.21508503  1.4539671 ]\n",
      " [-2.046368   -1.2143309  -0.8739986  -0.22162296 -1.1226768   3.3677251\n",
      "  -1.1226768  -1.9306357  -1.9053243  -0.21508503 -0.7786713 ]\n",
      " [-2.046368   -1.225689   -0.6990994   0.1656685  -1.6711769   5.005016\n",
      "  -1.6711769  -1.9306357  -1.2852077  -0.21508503 -1.2581642 ]\n",
      " [-2.046368   -1.5948323  -0.25390166  0.34057432 -1.0541143   2.6703606\n",
      "  -1.0541143  -2.1294162  -1.5981637  -0.21508503 -0.71873474]\n",
      " [-2.046368   -1.9015051  -0.33340126  0.30934113  0.23143263 -0.42229986\n",
      "   0.23143263 -2.3515828  -1.7662327  -0.21508503  0.4050766 ]\n",
      " [-2.046368   -1.9015051  -0.3652011   0.29684788 -1.5340519   0.9421091\n",
      "  -1.5340519  -2.4568195  -1.7894146  -0.21508503 -1.138291  ]\n",
      " [-2.046368   -1.9355798  -0.03130274  0.42802724 -0.74558306  0.79050815\n",
      "  -0.74558306 -2.4334338  -2.2240758  -0.21508503 -0.44902003]\n",
      " [-2.046368   -1.9355798  -0.03130274  0.42802724  1.9454952  -0.14941806\n",
      "   1.9454952  -2.5620565  -2.2356668  -0.21508503  1.9034917 ]\n",
      " [-2.046368   -2.077558   -0.03130274  0.04073577  0.76279205 -0.8467827\n",
      "   0.76279205 -2.5386705  -2.299417   -0.21508503  0.8695853 ]\n",
      " [-2.046368   -2.077558   -2.1141925  -0.39028212 -1.0369737  -0.8467827\n",
      "  -1.0369737  -2.269732   -2.3283947  -0.21508503 -0.7037506 ]\n",
      " [-2.046368   -2.077558   -0.8739986  -0.39028212 -0.3684893   0.09314354\n",
      "  -0.3684893  -2.4158943  -2.3283947  -0.21508503 -0.1193687 ]]\n",
      "19.7\n"
     ]
    },
    {
     "name": "stderr",
     "output_type": "stream",
     "text": [
      "C:\\Users\\makso\\AppData\\Local\\Temp\\ipykernel_15304\\4127245704.py:1: VisibleDeprecationWarning: Creating an ndarray from ragged nested sequences (which is a list-or-tuple of lists-or-tuples-or ndarrays with different lengths or shapes) is deprecated. If you meant to do this, you must specify 'dtype=object' when creating the ndarray.\n",
      "  train_final_value = np.array(stations_train_value)\n",
      "C:\\Users\\makso\\AppData\\Local\\Temp\\ipykernel_15304\\4127245704.py:2: VisibleDeprecationWarning: Creating an ndarray from ragged nested sequences (which is a list-or-tuple of lists-or-tuples-or ndarrays with different lengths or shapes) is deprecated. If you meant to do this, you must specify 'dtype=object' when creating the ndarray.\n",
      "  train_final_label = np.array(stations_train_label)\n"
     ]
    }
   ],
   "source": [
    "train_final_value = np.array(stations_train_value)\n",
    "train_final_label = np.array(stations_train_label)\n",
    "\n",
    "print(train_final_value.shape)\n",
    "print(train_final_label.shape)\n",
    "\n",
    "for index, row in enumerate(train_final_value):\n",
    "  train_final_value[index] = np.array(row).astype(np.float32)\n",
    "\n",
    "for index, row in enumerate(train_final_label):\n",
    "  train_final_label[index] = np.array(row).astype(np.float32)\n",
    "\n",
    "print(train_final_value[0][0])\n",
    "print(train_final_label[0][0])"
   ]
  },
  {
   "cell_type": "code",
   "execution_count": 10,
   "metadata": {
    "colab": {
     "base_uri": "https://localhost:8080/"
    },
    "id": "MZBBetSgvo5Z",
    "outputId": "e20e2d0f-b495-4191-ef0a-0d29f9a3ec44"
   },
   "outputs": [
    {
     "name": "stdout",
     "output_type": "stream",
     "text": [
      "(10, 352, 14, 11)\n",
      "(10, 352)\n",
      "[[-1.53880692 -1.3801024  -4.37268448 -0.97868294 -0.08122716  1.02628791\n",
      "  -0.08122716 -1.87571633 -1.26345658 -0.23250347  0.12184759]\n",
      " [-1.53880692 -1.3801024  -2.83865499 -0.46798059  0.46102253 -0.17035951\n",
      "   0.46102253 -1.82346177 -1.66834009 -0.23250347  0.61039799]\n",
      " [-1.53880692 -1.44793189 -1.67215347 -0.079634    1.18402219 -0.20454943\n",
      "   1.18402219 -1.83507383 -1.81090462 -0.23250347  1.2617985 ]\n",
      " [-1.53880692 -1.47054172 -0.69740552  0.24487479  1.18402219 -0.47806886\n",
      "   1.18402219 -1.83507383 -1.81090462 -0.23250347 -1.56587195]\n",
      " [-1.53880692 -1.32923019 -2.29535294  0.24487479  0.87181777  2.49645472\n",
      "   0.87181777 -1.79443145 -1.63412452 -0.23250347  0.9805119 ]\n",
      " [-1.53880692 -1.36314499 -1.99174297 -0.18603033  2.9586575   3.69310212\n",
      "   2.9586575  -1.79443145 -1.14370239 -0.23250347  2.86069059]\n",
      " [-1.53880692 -1.83229935 -0.80926186 -0.18603033  2.9586575   2.08617568\n",
      "   2.9586575  -1.73056459 -1.77668917 -0.23250347 -1.56587195]\n",
      " [-1.53880692 -1.77012229 -0.37781605  0.35127112  1.5948174  -0.51225877\n",
      "   1.5948174  -1.87571633 -1.79949951 -0.23250347  1.63191247]\n",
      " [-1.53880692 -1.78707969 -0.37781605  0.35127112  2.25208974 -0.37549907\n",
      "   2.25208974 -1.63766754 -1.90214598 -0.23250347  2.22409463]\n",
      " [-1.53880692 -2.03578806  0.14950658  0.52682507  2.25208974 -0.34130913\n",
      "   2.25208974 -1.74217677 -1.92495632 -0.23250347 -1.56587195]\n",
      " [-1.53880692 -1.9905684  -0.01028815  0.47362688  2.25208974 -0.8199681\n",
      "   2.25208974 -2.00344992 -2.22149062 -0.23250347 -1.56587195]\n",
      " [-1.53880692 -1.9905684  -1.35256398  0.02676232  2.25208974  0.58181888\n",
      "   2.25208974 -1.99183774 -2.23859835 -0.23250347 -1.56587195]\n",
      " [-1.53880692 -1.93404377 -2.29535294  0.02676232  1.67697644  0.47924909\n",
      "   1.67697644 -2.00344992 -1.91355121 -0.23250347  1.70593524]\n",
      " [-1.53880692 -2.28449655 -0.47369289  0.31935221  2.3671124   0.20572969\n",
      "   2.3671124  -2.00344992 -1.98198223 -0.23250347  2.3277266 ]]\n",
      "21.600000381469727\n"
     ]
    }
   ],
   "source": [
    "test_final_value = np.array(stations_test_value)\n",
    "test_final_label = np.array(stations_test_label)\n",
    "\n",
    "print(test_final_value.shape)\n",
    "print(test_final_label.shape)\n",
    "\n",
    "for index, row in enumerate(test_final_value):\n",
    "  test_final_value[index] = np.array(row).astype(np.float32)\n",
    "\n",
    "for index, row in enumerate(test_final_label):\n",
    "  test_final_label[index] = np.array(row).astype(np.float32)\n",
    "\n",
    "print(test_final_value[0][0])\n",
    "print(test_final_label[0][0])"
   ]
  },
  {
   "cell_type": "markdown",
   "metadata": {
    "id": "ABd2G_Z6p_be"
   },
   "source": [
    "### Połączenie sekwencji z różnych stacji"
   ]
  },
  {
   "cell_type": "code",
   "execution_count": 11,
   "metadata": {
    "id": "zCPS-qN-qILS"
   },
   "outputs": [],
   "source": [
    "train_final_value_concat = np.concatenate(train_final_value)\n",
    "train_final_label_concat = np.concatenate(train_final_label)\n",
    "test_final_value_concat = np.concatenate(test_final_value)\n",
    "test_final_label_concat = np.concatenate(test_final_label)"
   ]
  },
  {
   "cell_type": "markdown",
   "metadata": {
    "id": "bXPnsadkutqL"
   },
   "source": [
    "### Sprawdzenie przykładowych elementów"
   ]
  },
  {
   "cell_type": "code",
   "execution_count": 12,
   "metadata": {
    "colab": {
     "base_uri": "https://localhost:8080/"
    },
    "id": "z2A2Y1W1uw8g",
    "outputId": "a5c0161e-4631-4176-b27c-10d0ddec8a91"
   },
   "outputs": [
    {
     "name": "stdout",
     "output_type": "stream",
     "text": [
      "[[-2.046368   -1.2029727  -5.103378   -0.63390094 -1.3112237   4.0044494\n",
      "  -1.3112237  -1.9423287  -1.4938451  -0.21508503 -0.943497  ]\n",
      " [-2.046368   -1.2029727  -2.7342894  -0.63390094 -1.7740207   4.0347695\n",
      "  -1.7740207  -1.8897102  -1.2446393  -0.21508503 -1.3480691 ]\n",
      " [-2.046368   -1.5323619  -1.6848946  -0.22162296  0.23143263  0.72986776\n",
      "   0.23143263 -2.0592585  -1.7140734  -0.21508503  0.4050766 ]\n",
      " [-2.046368   -1.4982871  -0.794499   -0.22162296  1.4312764   0.5479465\n",
      "   1.4312764  -1.9072497  -1.9053243  -0.21508503  1.4539671 ]\n",
      " [-2.046368   -1.2143309  -0.8739986  -0.22162296 -1.1226768   3.3677251\n",
      "  -1.1226768  -1.9306357  -1.9053243  -0.21508503 -0.7786713 ]\n",
      " [-2.046368   -1.225689   -0.6990994   0.1656685  -1.6711769   5.005016\n",
      "  -1.6711769  -1.9306357  -1.2852077  -0.21508503 -1.2581642 ]\n",
      " [-2.046368   -1.5948323  -0.25390166  0.34057432 -1.0541143   2.6703606\n",
      "  -1.0541143  -2.1294162  -1.5981637  -0.21508503 -0.71873474]\n",
      " [-2.046368   -1.9015051  -0.33340126  0.30934113  0.23143263 -0.42229986\n",
      "   0.23143263 -2.3515828  -1.7662327  -0.21508503  0.4050766 ]\n",
      " [-2.046368   -1.9015051  -0.3652011   0.29684788 -1.5340519   0.9421091\n",
      "  -1.5340519  -2.4568195  -1.7894146  -0.21508503 -1.138291  ]\n",
      " [-2.046368   -1.9355798  -0.03130274  0.42802724 -0.74558306  0.79050815\n",
      "  -0.74558306 -2.4334338  -2.2240758  -0.21508503 -0.44902003]\n",
      " [-2.046368   -1.9355798  -0.03130274  0.42802724  1.9454952  -0.14941806\n",
      "   1.9454952  -2.5620565  -2.2356668  -0.21508503  1.9034917 ]\n",
      " [-2.046368   -2.077558   -0.03130274  0.04073577  0.76279205 -0.8467827\n",
      "   0.76279205 -2.5386705  -2.299417   -0.21508503  0.8695853 ]\n",
      " [-2.046368   -2.077558   -2.1141925  -0.39028212 -1.0369737  -0.8467827\n",
      "  -1.0369737  -2.269732   -2.3283947  -0.21508503 -0.7037506 ]\n",
      " [-2.046368   -2.077558   -0.8739986  -0.39028212 -0.3684893   0.09314354\n",
      "  -0.3684893  -2.4158943  -2.3283947  -0.21508503 -0.1193687 ]]\n",
      "19.7\n"
     ]
    }
   ],
   "source": [
    "print(train_final_value_concat[0])\n",
    "print(train_final_label_concat[0])"
   ]
  },
  {
   "cell_type": "code",
   "execution_count": 13,
   "metadata": {
    "colab": {
     "base_uri": "https://localhost:8080/"
    },
    "id": "M_MPZI7WwARv",
    "outputId": "cbb949bb-1a59-4d5e-9d14-542639143285"
   },
   "outputs": [
    {
     "name": "stdout",
     "output_type": "stream",
     "text": [
      "[[-1.53880692 -1.3801024  -4.37268448 -0.97868294 -0.08122716  1.02628791\n",
      "  -0.08122716 -1.87571633 -1.26345658 -0.23250347  0.12184759]\n",
      " [-1.53880692 -1.3801024  -2.83865499 -0.46798059  0.46102253 -0.17035951\n",
      "   0.46102253 -1.82346177 -1.66834009 -0.23250347  0.61039799]\n",
      " [-1.53880692 -1.44793189 -1.67215347 -0.079634    1.18402219 -0.20454943\n",
      "   1.18402219 -1.83507383 -1.81090462 -0.23250347  1.2617985 ]\n",
      " [-1.53880692 -1.47054172 -0.69740552  0.24487479  1.18402219 -0.47806886\n",
      "   1.18402219 -1.83507383 -1.81090462 -0.23250347 -1.56587195]\n",
      " [-1.53880692 -1.32923019 -2.29535294  0.24487479  0.87181777  2.49645472\n",
      "   0.87181777 -1.79443145 -1.63412452 -0.23250347  0.9805119 ]\n",
      " [-1.53880692 -1.36314499 -1.99174297 -0.18603033  2.9586575   3.69310212\n",
      "   2.9586575  -1.79443145 -1.14370239 -0.23250347  2.86069059]\n",
      " [-1.53880692 -1.83229935 -0.80926186 -0.18603033  2.9586575   2.08617568\n",
      "   2.9586575  -1.73056459 -1.77668917 -0.23250347 -1.56587195]\n",
      " [-1.53880692 -1.77012229 -0.37781605  0.35127112  1.5948174  -0.51225877\n",
      "   1.5948174  -1.87571633 -1.79949951 -0.23250347  1.63191247]\n",
      " [-1.53880692 -1.78707969 -0.37781605  0.35127112  2.25208974 -0.37549907\n",
      "   2.25208974 -1.63766754 -1.90214598 -0.23250347  2.22409463]\n",
      " [-1.53880692 -2.03578806  0.14950658  0.52682507  2.25208974 -0.34130913\n",
      "   2.25208974 -1.74217677 -1.92495632 -0.23250347 -1.56587195]\n",
      " [-1.53880692 -1.9905684  -0.01028815  0.47362688  2.25208974 -0.8199681\n",
      "   2.25208974 -2.00344992 -2.22149062 -0.23250347 -1.56587195]\n",
      " [-1.53880692 -1.9905684  -1.35256398  0.02676232  2.25208974  0.58181888\n",
      "   2.25208974 -1.99183774 -2.23859835 -0.23250347 -1.56587195]\n",
      " [-1.53880692 -1.93404377 -2.29535294  0.02676232  1.67697644  0.47924909\n",
      "   1.67697644 -2.00344992 -1.91355121 -0.23250347  1.70593524]\n",
      " [-1.53880692 -2.28449655 -0.47369289  0.31935221  2.3671124   0.20572969\n",
      "   2.3671124  -2.00344992 -1.98198223 -0.23250347  2.3277266 ]]\n",
      "21.600000381469727\n"
     ]
    }
   ],
   "source": [
    "print(test_final_value_concat[0])\n",
    "print(test_final_label_concat[0])"
   ]
  },
  {
   "cell_type": "markdown",
   "metadata": {
    "id": "DQ6ocStLpRk0"
   },
   "source": [
    "### Zbudowanie modelu"
   ]
  },
  {
   "cell_type": "code",
   "execution_count": 14,
   "metadata": {
    "colab": {
     "base_uri": "https://localhost:8080/"
    },
    "id": "VHVRLZ0QyWPe",
    "outputId": "ae7bb6c9-46fb-4cc6-d551-8a91e1aca00e"
   },
   "outputs": [],
   "source": [
    "lstm_model_lr = tf.keras.models.Sequential([\n",
    "    tf.keras.layers.LSTM(256, activation='relu', return_sequences=True),\n",
    "    tf.keras.layers.LSTM(128, activation='relu', return_sequences=True),\n",
    "    tf.keras.layers.LSTM(64, activation='relu'),\n",
    "    tf.keras.layers.Dense(units=1, activation='relu')\n",
    "])"
   ]
  },
  {
   "cell_type": "code",
   "execution_count": 15,
   "metadata": {
    "colab": {
     "base_uri": "https://localhost:8080/"
    },
    "id": "capXMiWgus7W",
    "outputId": "724b16ac-5995-4f4f-b6ae-7159abab619a"
   },
   "outputs": [
    {
     "name": "stdout",
     "output_type": "stream",
     "text": [
      "Epoch 1/30\n",
      "792/792 [==============================] - 37s 45ms/step - loss: 369.9713 - mean_squared_error: 369.9713 - val_loss: 131.8801 - val_mean_squared_error: 131.8801\n",
      "Epoch 2/30\n",
      "792/792 [==============================] - 34s 42ms/step - loss: 25.7819 - mean_squared_error: 25.7819 - val_loss: 283.4486 - val_mean_squared_error: 283.4486\n",
      "Epoch 3/30\n",
      "792/792 [==============================] - 34s 42ms/step - loss: 17.9050 - mean_squared_error: 17.9050 - val_loss: 19.5196 - val_mean_squared_error: 19.5196\n",
      "Epoch 4/30\n",
      "792/792 [==============================] - 33s 42ms/step - loss: 11.6474 - mean_squared_error: 11.6474 - val_loss: 31.5466 - val_mean_squared_error: 31.5466\n",
      "Epoch 5/30\n",
      "792/792 [==============================] - 40s 50ms/step - loss: 9.5641 - mean_squared_error: 9.5641 - val_loss: 14.9064 - val_mean_squared_error: 14.9064\n",
      "Epoch 6/30\n",
      "792/792 [==============================] - 58s 73ms/step - loss: 8.2752 - mean_squared_error: 8.2752 - val_loss: 15.3958 - val_mean_squared_error: 15.3958\n",
      "Epoch 7/30\n",
      "792/792 [==============================] - 57s 72ms/step - loss: 7.5333 - mean_squared_error: 7.5333 - val_loss: 14.8030 - val_mean_squared_error: 14.8030\n",
      "Epoch 8/30\n",
      "792/792 [==============================] - 61s 77ms/step - loss: 7.1299 - mean_squared_error: 7.1299 - val_loss: 7.9583 - val_mean_squared_error: 7.9583\n",
      "Epoch 9/30\n",
      "792/792 [==============================] - 61s 77ms/step - loss: 6.8259 - mean_squared_error: 6.8259 - val_loss: 6.9993 - val_mean_squared_error: 6.9993\n",
      "Epoch 10/30\n",
      "792/792 [==============================] - 62s 78ms/step - loss: 6.7682 - mean_squared_error: 6.7682 - val_loss: 4.8458 - val_mean_squared_error: 4.8458\n",
      "Epoch 11/30\n",
      "792/792 [==============================] - 66s 83ms/step - loss: 6.3877 - mean_squared_error: 6.3877 - val_loss: 4.5039 - val_mean_squared_error: 4.5039\n",
      "Epoch 12/30\n",
      "792/792 [==============================] - 66s 84ms/step - loss: 6.1447 - mean_squared_error: 6.1447 - val_loss: 4.2948 - val_mean_squared_error: 4.2948\n",
      "Epoch 13/30\n",
      "792/792 [==============================] - 49s 62ms/step - loss: 6.1128 - mean_squared_error: 6.1128 - val_loss: 4.3012 - val_mean_squared_error: 4.3012\n",
      "Epoch 14/30\n",
      "792/792 [==============================] - 64s 81ms/step - loss: 5.8650 - mean_squared_error: 5.8650 - val_loss: 4.0395 - val_mean_squared_error: 4.0395\n",
      "Epoch 15/30\n",
      "792/792 [==============================] - 44s 56ms/step - loss: 5.8751 - mean_squared_error: 5.8751 - val_loss: 5.7879 - val_mean_squared_error: 5.7879\n",
      "Epoch 16/30\n",
      "792/792 [==============================] - 53s 67ms/step - loss: 5.6942 - mean_squared_error: 5.6942 - val_loss: 4.5535 - val_mean_squared_error: 4.5535\n",
      "Epoch 17/30\n",
      "792/792 [==============================] - 64s 80ms/step - loss: 5.6737 - mean_squared_error: 5.6737 - val_loss: 5.2899 - val_mean_squared_error: 5.2899\n",
      "Epoch 18/30\n",
      "792/792 [==============================] - 69s 87ms/step - loss: 5.7513 - mean_squared_error: 5.7513 - val_loss: 4.2087 - val_mean_squared_error: 4.2087\n",
      "Epoch 19/30\n",
      "792/792 [==============================] - 69s 88ms/step - loss: 5.5635 - mean_squared_error: 5.5635 - val_loss: 3.7847 - val_mean_squared_error: 3.7847\n",
      "Epoch 20/30\n",
      "792/792 [==============================] - 69s 87ms/step - loss: 5.4211 - mean_squared_error: 5.4211 - val_loss: 4.0045 - val_mean_squared_error: 4.0045\n",
      "Epoch 21/30\n",
      "792/792 [==============================] - 70s 88ms/step - loss: 5.4069 - mean_squared_error: 5.4069 - val_loss: 4.2503 - val_mean_squared_error: 4.2503\n",
      "Epoch 22/30\n",
      "792/792 [==============================] - 61s 77ms/step - loss: 5.3445 - mean_squared_error: 5.3445 - val_loss: 4.6481 - val_mean_squared_error: 4.6481\n",
      "Epoch 23/30\n",
      "792/792 [==============================] - 58s 73ms/step - loss: 5.3592 - mean_squared_error: 5.3592 - val_loss: 3.7502 - val_mean_squared_error: 3.7502\n",
      "Epoch 24/30\n",
      "792/792 [==============================] - 60s 76ms/step - loss: 5.3105 - mean_squared_error: 5.3105 - val_loss: 3.6477 - val_mean_squared_error: 3.6477\n",
      "Epoch 25/30\n",
      "792/792 [==============================] - 56s 71ms/step - loss: 5.2363 - mean_squared_error: 5.2363 - val_loss: 3.8901 - val_mean_squared_error: 3.8901\n",
      "Epoch 26/30\n",
      "792/792 [==============================] - 55s 70ms/step - loss: 5.1738 - mean_squared_error: 5.1738 - val_loss: 3.7887 - val_mean_squared_error: 3.7887\n",
      "Epoch 27/30\n",
      "792/792 [==============================] - 61s 77ms/step - loss: 5.1507 - mean_squared_error: 5.1507 - val_loss: 3.9319 - val_mean_squared_error: 3.9319\n",
      "Epoch 28/30\n",
      "792/792 [==============================] - 65s 82ms/step - loss: 5.1366 - mean_squared_error: 5.1366 - val_loss: 3.9999 - val_mean_squared_error: 3.9999\n",
      "Epoch 29/30\n",
      "792/792 [==============================] - 45s 56ms/step - loss: 5.0255 - mean_squared_error: 5.0255 - val_loss: 4.6090 - val_mean_squared_error: 4.6090\n",
      "Epoch 30/30\n",
      "792/792 [==============================] - 58s 73ms/step - loss: 5.0301 - mean_squared_error: 5.0301 - val_loss: 4.5215 - val_mean_squared_error: 4.5215\n"
     ]
    }
   ],
   "source": [
    "MAX_EPOCHS = 30\n",
    "\n",
    "early_stopping=tf.keras.callbacks.EarlyStopping(\n",
    "    monitor='val_mean_squared_error', min_delta=0, patience=10, verbose=2, mode='auto',\n",
    "    baseline=None, restore_best_weights=True)\n",
    "\n",
    "lstm_model_lr.compile(loss=tf.losses.MeanSquaredError(),\n",
    "              optimizer=tf.optimizers.Adam(learning_rate=0.0001),\n",
    "              metrics=[tf.metrics.MeanSquaredError()],\n",
    ")\n",
    "\n",
    "history = lstm_model_lr.fit(train_final_value_concat, train_final_label_concat, validation_split=0.2, epochs=MAX_EPOCHS, callbacks=[early_stopping])"
   ]
  },
  {
   "cell_type": "code",
   "execution_count": 16,
   "metadata": {
    "colab": {
     "base_uri": "https://localhost:8080/",
     "height": 295
    },
    "id": "f_Hys0k-rTSX",
    "outputId": "42853e7e-352d-4673-9b32-3c74db37ca73"
   },
   "outputs": [
    {
     "data": {
      "image/png": "[encoded data removed]",
      "text/plain": [
       "<Figure size 432x288 with 1 Axes>"
      ]
     },
     "metadata": {
      "needs_background": "light"
     },
     "output_type": "display_data"
    }
   ],
   "source": [
    "plt.plot(history.history['mean_squared_error'])\n",
    "plt.plot(history.history['val_mean_squared_error'])\n",
    "plt.title('model MSE')\n",
    "plt.ylabel('MSE')\n",
    "plt.xlabel('epoch')\n",
    "plt.legend(['train', 'val'], loc='upper left')\n",
    "plt.show()"
   ]
  },
  {
   "cell_type": "markdown",
   "metadata": {
    "id": "s7Aj-o_swM6t"
   },
   "source": [
    "### Ewaluacja"
   ]
  },
  {
   "cell_type": "code",
   "execution_count": 17,
   "metadata": {
    "colab": {
     "base_uri": "https://localhost:8080/"
    },
    "id": "3Zo0QkCsylFt",
    "outputId": "f2e95342-f4d3-4ce8-e184-4a86da87a6db"
   },
   "outputs": [
    {
     "name": "stdout",
     "output_type": "stream",
     "text": [
      "110/110 [==============================] - 3s 26ms/step - loss: 5.0750 - mean_squared_error: 5.0750\n"
     ]
    },
    {
     "data": {
      "text/plain": [
       "[5.074981212615967, 5.074981212615967]"
      ]
     },
     "execution_count": 17,
     "metadata": {},
     "output_type": "execute_result"
    }
   ],
   "source": [
    "lstm_model_lr.evaluate(test_final_value_concat, test_final_label_concat)"
   ]
  },
  {
   "cell_type": "markdown",
   "metadata": {
    "id": "7MN91LtB_wq9"
   },
   "source": [
    "### Wyświetlenie wykresu"
   ]
  },
  {
   "cell_type": "code",
   "execution_count": 18,
   "metadata": {
    "id": "4Xbi2Srl_yOV"
   },
   "outputs": [
    {
     "data": {
      "text/plain": [
       "[<matplotlib.lines.Line2D at 0x2178da79f00>,\n",
       " <matplotlib.lines.Line2D at 0x2178da79f30>]"
      ]
     },
     "execution_count": 18,
     "metadata": {},
     "output_type": "execute_result"
    },
    {
     "data": {
      "image/png": "[encoded data removed]",
      "text/plain": [
       "<Figure size 432x288 with 1 Axes>"
      ]
     },
     "metadata": {
      "needs_background": "light"
     },
     "output_type": "display_data"
    }
   ],
   "source": [
    "predictions = lstm_model_lr.predict(test_final_value_concat, batch_size = 1)\n",
    "\n",
    "start = 0\n",
    "end = 200\n",
    "\n",
    "fig = plt.figure()\n",
    "ax = fig.add_subplot(111)\n",
    "ax.plot(test_final_label_concat[start:end], 'b', predictions[start:end], 'g')"
   ]
  }
 ],
 "metadata": {
  "accelerator": "GPU",
  "colab": {
   "collapsed_sections": [],
   "name": "Temperature forecasting.ipynb",
   "provenance": []
  },
  "kernelspec": {
   "display_name": "Python 3 (ipykernel)",
   "language": "python",
   "name": "python3"
  },
  "language_info": {
   "codemirror_mode": {
    "name": "ipython",
    "version": 3
   },
   "file_extension": ".py",
   "mimetype": "text/x-python",
   "name": "python",
   "nbconvert_exporter": "python",
   "pygments_lexer": "ipython3",
   "version": "3.10.3"
  }
 },
 "nbformat": 4,
 "nbformat_minor": 1
}
